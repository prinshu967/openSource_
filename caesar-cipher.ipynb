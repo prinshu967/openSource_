{
 "cells": [
  {
   "cell_type": "markdown",
   "id": "74055134",
   "metadata": {
    "papermill": {
     "duration": 0.010961,
     "end_time": "2022-01-27T07:22:06.524035",
     "exception": false,
     "start_time": "2022-01-27T07:22:06.513074",
     "status": "completed"
    },
    "tags": []
   },
   "source": [
    "## Caesar Cipher\n",
    "\n",
    "In cryptography, a **Caesar cipher**, also known as **Caesar's cipher**, the **shift cipher**, **Caesar's code** or **Caesar shift**, is one of the simplest and most widely known encryption techniques. It is a type of substitution cipher in which each letter in the plaintext is replaced by a letter some fixed number of positions down the alphabet. For example, with a left shift of $3$, $D$ would be replaced by $A$, $E$ would become $B$, and so on. The method is named after **Julius Caesar**, who used it in his private correspondence\n",
    "\n",
    "## Methodology"
   ]
  },
  {
   "cell_type": "code",
   "execution_count": 1,
   "id": "94098c0b",
   "metadata": {
    "execution": {
     "iopub.execute_input": "2022-01-27T07:22:06.547295Z",
     "iopub.status.busy": "2022-01-27T07:22:06.546405Z",
     "iopub.status.idle": "2022-01-27T07:22:06.611578Z",
     "shell.execute_reply": "2022-01-27T07:22:06.610800Z"
    },
    "papermill": {
     "duration": 0.08046,
     "end_time": "2022-01-27T07:22:06.611853",
     "exception": true,
     "start_time": "2022-01-27T07:22:06.531393",
     "status": "failed"
    },
    "tags": []
   },
   "outputs": [
    {
     "ename": "StdinNotImplementedError",
     "evalue": "raw_input was called, but this frontend does not support input requests.",
     "output_type": "error",
     "traceback": [
      "\u001b[0;31m---------------------------------------------------------------------------\u001b[0m",
      "\u001b[0;31mStdinNotImplementedError\u001b[0m                  Traceback (most recent call last)",
      "\u001b[0;32m/tmp/ipykernel_19/1131873607.py\u001b[0m in \u001b[0;36m<module>\u001b[0;34m\u001b[0m\n\u001b[1;32m      1\u001b[0m \u001b[0malphabets\u001b[0m \u001b[0;34m=\u001b[0m \u001b[0;34m\"ABCDEFGHIJKLMNOPQRSTUVWXYZ\"\u001b[0m\u001b[0;34m\u001b[0m\u001b[0;34m\u001b[0m\u001b[0m\n\u001b[1;32m      2\u001b[0m \u001b[0;34m\u001b[0m\u001b[0m\n\u001b[0;32m----> 3\u001b[0;31m \u001b[0mstring_input\u001b[0m \u001b[0;34m=\u001b[0m \u001b[0minput\u001b[0m\u001b[0;34m(\u001b[0m\u001b[0;34m\"Enter a string: \"\u001b[0m\u001b[0;34m)\u001b[0m\u001b[0;34m\u001b[0m\u001b[0;34m\u001b[0m\u001b[0m\n\u001b[0m\u001b[1;32m      4\u001b[0m \u001b[0;34m\u001b[0m\u001b[0m\n\u001b[1;32m      5\u001b[0m \u001b[0minput_length\u001b[0m \u001b[0;34m=\u001b[0m \u001b[0mlen\u001b[0m\u001b[0;34m(\u001b[0m\u001b[0mstring_input\u001b[0m\u001b[0;34m)\u001b[0m\u001b[0;34m\u001b[0m\u001b[0;34m\u001b[0m\u001b[0m\n",
      "\u001b[0;32m/opt/conda/lib/python3.7/site-packages/ipykernel/kernelbase.py\u001b[0m in \u001b[0;36mraw_input\u001b[0;34m(self, prompt)\u001b[0m\n\u001b[1;32m   1003\u001b[0m         \u001b[0;32mif\u001b[0m \u001b[0;32mnot\u001b[0m \u001b[0mself\u001b[0m\u001b[0;34m.\u001b[0m\u001b[0m_allow_stdin\u001b[0m\u001b[0;34m:\u001b[0m\u001b[0;34m\u001b[0m\u001b[0;34m\u001b[0m\u001b[0m\n\u001b[1;32m   1004\u001b[0m             raise StdinNotImplementedError(\n\u001b[0;32m-> 1005\u001b[0;31m                 \u001b[0;34m\"raw_input was called, but this frontend does not support input requests.\"\u001b[0m\u001b[0;34m\u001b[0m\u001b[0;34m\u001b[0m\u001b[0m\n\u001b[0m\u001b[1;32m   1006\u001b[0m             )\n\u001b[1;32m   1007\u001b[0m         return self._input_request(\n",
      "\u001b[0;31mStdinNotImplementedError\u001b[0m: raw_input was called, but this frontend does not support input requests."
     ]
    }
   ],
   "source": [
    "alphabets = \"ABCDEFGHIJKLMNOPQRSTUVWXYZ\"\n",
    "\n",
    "string_input = input(\"Enter a string: \")\n",
    "\n",
    "input_length = len(string_input)\n",
    "\n",
    "string_output = \"\"\n",
    "\n",
    "for i in range(input_length):\n",
    "    character = string_input[i]\n",
    "    location_of_character = alphabets.find(character)\n",
    "    new_location = location_of_character + 3\n",
    "    string_output += alphabets[new_location]\n",
    "\n",
    "print(\"Encrypted text is:\", string_output)"
   ]
  },
  {
   "cell_type": "markdown",
   "id": "0b49f7c6",
   "metadata": {
    "papermill": {
     "duration": null,
     "end_time": null,
     "exception": null,
     "start_time": null,
     "status": "pending"
    },
    "tags": []
   },
   "source": [
    "## Example\n",
    "\n",
    "The transformation can be represented by aligning two alphabets; the cipher alphabet is the plain alphabet rotated left or right by some number of positions. For instance, here is a Caesar cipher using a left rotation of three places, equivalent to a right shift of 23 (the shift parameter is used as the key):\n",
    "\n",
    "![alt text](https://4137876152-files.gitbook.io/~/files/v0/b/gitbook-x-prod.appspot.com/o/spaces%2F-M2g31CUvdCruJm660Ot%2Fuploads%2Fkg5L6BqIsmdtL49UO64v%2F959.png?alt=media&token=e342aeb3-d462-43cc-9265-910ed9141238 \"Caesar Cipher\")\n",
    "\n",
    "When encrypting, a person looks up each letter of the message in the \"plain\" line and writes down the corresponding letter in the \"cipher\" line.\n",
    "\n",
    "|  |  |\n",
    "| --- | --- |\n",
    "| Plaintext | THE QUICK BROWN FOX JUMPS OVER THE LAZY DOG |\n",
    "| Ciphertext | QEB NRFZH YOLTK CLU GRJMP LSBO QEB IXWV ALD |\n",
    "\n",
    "Deciphering is done in reverse, with a right shift of 3.\n",
    "\n",
    "The encryption can also be represented using modular arithmetic by first transforming the letters into numbers, according to the scheme, $A → 0$, $B → 1$, ..., $Z → 25$. \n",
    "\n",
    "Encryption of a letter $x$ by a shift $n$ can be described mathematically as,\n",
    "\n",
    "$$ E_{n}(x)=(x+n) \\quad \\textrm{mod} \\quad 26 $$\n",
    "\n",
    "Decryption is performed similarly,\n",
    "\n",
    "$$ D_{n}(x)=(x-n) \\quad \\textrm{mod} \\quad 26 $$\n",
    "\n",
    "(There are different definitions for the modulo operation. In the above, the result is in the range $0$ to $25$; i.e., if $x + n$ or $x − n$ are not in the range $0$ to $25$, we have to **subtract** or **add** $26$.)\n",
    "\n",
    "## Upgrade The Previous Program\n",
    "\n",
    "If **new_location** variable is equal or greater than $26$, we have error. So let's fix it."
   ]
  },
  {
   "cell_type": "code",
   "execution_count": null,
   "id": "53e4effe",
   "metadata": {
    "papermill": {
     "duration": null,
     "end_time": null,
     "exception": null,
     "start_time": null,
     "status": "pending"
    },
    "tags": []
   },
   "outputs": [],
   "source": [
    "alphabets = \"ABCDEFGHIJKLMNOPQRSTUVWXYZ\"\n",
    "\n",
    "string_input = input(\"Enter a string: \")\n",
    "shift_input = int(input(\"Enter a value to shift by: \"))\n",
    "\n",
    "input_length = len(string_input)\n",
    "\n",
    "string_output = \"\"\n",
    "\n",
    "for i in range(input_length):\n",
    "    character = string_input[i]\n",
    "    location_of_character = alphabets.find(character)\n",
    "    new_location = (location_of_character + shift_input) % 26\n",
    "    string_output += alphabets[new_location]\n",
    "\n",
    "print(\"Encrypted text is:\", string_output)"
   ]
  },
  {
   "cell_type": "markdown",
   "id": "580f7b8e",
   "metadata": {
    "papermill": {
     "duration": null,
     "end_time": null,
     "exception": null,
     "start_time": null,
     "status": "pending"
    },
    "tags": []
   },
   "source": [
    "But what about the lowercase characters!!! Let's fix it too. "
   ]
  },
  {
   "cell_type": "code",
   "execution_count": null,
   "id": "9c4d35fd",
   "metadata": {
    "papermill": {
     "duration": null,
     "end_time": null,
     "exception": null,
     "start_time": null,
     "status": "pending"
    },
    "tags": []
   },
   "outputs": [],
   "source": [
    "def encypt_func(txt, s):  \n",
    "    result = \"\"  \n",
    "  \n",
    "  \n",
    "    # transverse the plain txt  \n",
    "    for i in range(len(txt)):  \n",
    "        char = txt[i]  \n",
    "        # encypt_func uppercase characters in plain txt  \n",
    "  \n",
    "        if (char.isupper()):  \n",
    "            result += chr((ord(char) + s - 64) % 26 + 65)  \n",
    "        # encypt_func lowercase characters in plain txt  \n",
    "        else:  \n",
    "            result += chr((ord(char) + s - 96) % 26 + 97)  \n",
    "    return result  \n",
    "\n",
    "# check the above function  \n",
    "txt = \"CEASeR CIPhER EXAmPLE\"  \n",
    "s = 4  \n",
    "  \n",
    "print(\"Plain txt : \" + txt)  \n",
    "print(\"Shift pattern : \" + str(s))  \n",
    "print(\"Cipher: \" + encypt_func(txt, s))  "
   ]
  },
  {
   "cell_type": "markdown",
   "id": "26b433ee",
   "metadata": {
    "papermill": {
     "duration": null,
     "end_time": null,
     "exception": null,
     "start_time": null,
     "status": "pending"
    },
    "tags": []
   },
   "source": [
    "## Hacking of Caesar Cipher Algorithm\n",
    "\n",
    "The cipher text can be hacked with various possibilities. One of such possibility is Brute Force Technique, which involves trying every possible decryption key. This technique does not demand much effort and is relatively simple for a hacker. The program implementation for hacking Caesar cipher algorithm is as follows:"
   ]
  },
  {
   "cell_type": "code",
   "execution_count": null,
   "id": "ffb6cd42",
   "metadata": {
    "papermill": {
     "duration": null,
     "end_time": null,
     "exception": null,
     "start_time": null,
     "status": "pending"
    },
    "tags": []
   },
   "outputs": [],
   "source": [
    "# Caesar Cipher Hacker\n",
    "\n",
    "message = 'LIPPS VELQEXC EGEHIQC'\n",
    "LETTERS = 'ABCDEFGHIJKLMNOPQRSTUVWXYZ'\n",
    "\n",
    "# loop through every possible key\n",
    "for key in range(len(LETTERS)):\n",
    "\n",
    "    # It is important to set translated to the blank string so that the\n",
    "    # previous iteration's value for translated is cleared.\n",
    "    translated = ''\n",
    "\n",
    "    # The rest of the program is the same as the original Caesar program:\n",
    "\n",
    "    # run the encryption/decryption code on each symbol in the message\n",
    "    for symbol in message:\n",
    "        if symbol in LETTERS:\n",
    "            num = LETTERS.find(symbol) # get the number of the symbol\n",
    "            num = num - key\n",
    "\n",
    "            # handle the wrap-around if num is 26 or larger or less than 0\n",
    "            if num < 0:\n",
    "                num = num + len(LETTERS)\n",
    "\n",
    "            # add number's symbol at the end of translated\n",
    "            translated = translated + LETTERS[num]\n",
    "\n",
    "        else:\n",
    "            # just add the symbol without encrypting/decrypting\n",
    "            translated = translated + symbol\n",
    "\n",
    "    # display the current key being tested, along with its decryption\n",
    "    print('Key #%s: %s' % (key, translated)) "
   ]
  },
  {
   "cell_type": "code",
   "execution_count": null,
   "id": "b849dfa5",
   "metadata": {
    "papermill": {
     "duration": null,
     "end_time": null,
     "exception": null,
     "start_time": null,
     "status": "pending"
    },
    "tags": []
   },
   "outputs": [],
   "source": []
  }
 ],
 "metadata": {
  "kernelspec": {
   "display_name": "Python 3",
   "language": "python",
   "name": "python3"
  },
  "language_info": {
   "codemirror_mode": {
    "name": "ipython",
    "version": 3
   },
   "file_extension": ".py",
   "mimetype": "text/x-python",
   "name": "python",
   "nbconvert_exporter": "python",
   "pygments_lexer": "ipython3",
   "version": "3.7.12"
  },
  "papermill": {
   "default_parameters": {},
   "duration": 11.486679,
   "end_time": "2022-01-27T07:22:09.525569",
   "environment_variables": {},
   "exception": true,
   "input_path": "__notebook__.ipynb",
   "output_path": "__notebook__.ipynb",
   "parameters": {},
   "start_time": "2022-01-27T07:21:58.038890",
   "version": "2.3.3"
  }
 },
 "nbformat": 4,
 "nbformat_minor": 5
}
