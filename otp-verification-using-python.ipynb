{
 "cells": [
  {
   "cell_type": "code",
   "execution_count": 1,
   "id": "30289793",
   "metadata": {
    "execution": {
     "iopub.execute_input": "2023-07-31T05:08:01.607703Z",
     "iopub.status.busy": "2023-07-31T05:08:01.607164Z",
     "iopub.status.idle": "2023-07-31T05:08:17.395027Z",
     "shell.execute_reply": "2023-07-31T05:08:17.393253Z"
    },
    "papermill": {
     "duration": 15.795636,
     "end_time": "2023-07-31T05:08:17.397797",
     "exception": false,
     "start_time": "2023-07-31T05:08:01.602161",
     "status": "completed"
    },
    "tags": []
   },
   "outputs": [
    {
     "name": "stdout",
     "output_type": "stream",
     "text": [
      "Collecting pyotp\r\n",
      "  Downloading pyotp-2.9.0-py3-none-any.whl (13 kB)\r\n",
      "Installing collected packages: pyotp\r\n",
      "Successfully installed pyotp-2.9.0\r\n",
      "Note: you may need to restart the kernel to use updated packages.\n"
     ]
    }
   ],
   "source": [
    "pip install pyotp"
   ]
  },
  {
   "cell_type": "code",
   "execution_count": 2,
   "id": "fdeee662",
   "metadata": {
    "execution": {
     "iopub.execute_input": "2023-07-31T05:08:17.405747Z",
     "iopub.status.busy": "2023-07-31T05:08:17.405278Z",
     "iopub.status.idle": "2023-07-31T05:08:18.078571Z",
     "shell.execute_reply": "2023-07-31T05:08:18.076745Z"
    },
    "papermill": {
     "duration": 0.679848,
     "end_time": "2023-07-31T05:08:18.080729",
     "exception": true,
     "start_time": "2023-07-31T05:08:17.400881",
     "status": "failed"
    },
    "tags": []
   },
   "outputs": [
    {
     "name": "stdout",
     "output_type": "stream",
     "text": [
      "Generated Secret Key: CBLPMLP7AGVUAUYW\n",
      "Generated OTP: 956888\n"
     ]
    },
    {
     "ename": "StdinNotImplementedError",
     "evalue": "raw_input was called, but this frontend does not support input requests.",
     "output_type": "error",
     "traceback": [
      "\u001b[0;31m---------------------------------------------------------------------------\u001b[0m",
      "\u001b[0;31mStdinNotImplementedError\u001b[0m                  Traceback (most recent call last)",
      "Cell \u001b[0;32mIn[2], line 26\u001b[0m\n\u001b[1;32m     23\u001b[0m \u001b[38;5;28mprint\u001b[39m(\u001b[38;5;124m\"\u001b[39m\u001b[38;5;124mGenerated OTP:\u001b[39m\u001b[38;5;124m\"\u001b[39m, otp)\n\u001b[1;32m     25\u001b[0m \u001b[38;5;66;03m# Step 3: Simulate user input for OTP verification\u001b[39;00m\n\u001b[0;32m---> 26\u001b[0m user_input_otp \u001b[38;5;241m=\u001b[39m \u001b[38;5;28;43minput\u001b[39;49m\u001b[43m(\u001b[49m\u001b[38;5;124;43m\"\u001b[39;49m\u001b[38;5;124;43mEnter OTP received on your device: \u001b[39;49m\u001b[38;5;124;43m\"\u001b[39;49m\u001b[43m)\u001b[49m\n\u001b[1;32m     28\u001b[0m \u001b[38;5;66;03m# Step 4: Verify OTP\u001b[39;00m\n\u001b[1;32m     29\u001b[0m \u001b[38;5;28;01mif\u001b[39;00m verify_otp(secret_key, user_input_otp):\n",
      "File \u001b[0;32m/opt/conda/lib/python3.10/site-packages/ipykernel/kernelbase.py:1190\u001b[0m, in \u001b[0;36mKernel.raw_input\u001b[0;34m(self, prompt)\u001b[0m\n\u001b[1;32m   1188\u001b[0m \u001b[38;5;28;01mif\u001b[39;00m \u001b[38;5;129;01mnot\u001b[39;00m \u001b[38;5;28mself\u001b[39m\u001b[38;5;241m.\u001b[39m_allow_stdin:\n\u001b[1;32m   1189\u001b[0m     msg \u001b[38;5;241m=\u001b[39m \u001b[38;5;124m\"\u001b[39m\u001b[38;5;124mraw_input was called, but this frontend does not support input requests.\u001b[39m\u001b[38;5;124m\"\u001b[39m\n\u001b[0;32m-> 1190\u001b[0m     \u001b[38;5;28;01mraise\u001b[39;00m StdinNotImplementedError(msg)\n\u001b[1;32m   1191\u001b[0m \u001b[38;5;28;01mreturn\u001b[39;00m \u001b[38;5;28mself\u001b[39m\u001b[38;5;241m.\u001b[39m_input_request(\n\u001b[1;32m   1192\u001b[0m     \u001b[38;5;28mstr\u001b[39m(prompt),\n\u001b[1;32m   1193\u001b[0m     \u001b[38;5;28mself\u001b[39m\u001b[38;5;241m.\u001b[39m_parent_ident[\u001b[38;5;124m\"\u001b[39m\u001b[38;5;124mshell\u001b[39m\u001b[38;5;124m\"\u001b[39m],\n\u001b[1;32m   1194\u001b[0m     \u001b[38;5;28mself\u001b[39m\u001b[38;5;241m.\u001b[39mget_parent(\u001b[38;5;124m\"\u001b[39m\u001b[38;5;124mshell\u001b[39m\u001b[38;5;124m\"\u001b[39m),\n\u001b[1;32m   1195\u001b[0m     password\u001b[38;5;241m=\u001b[39m\u001b[38;5;28;01mFalse\u001b[39;00m,\n\u001b[1;32m   1196\u001b[0m )\n",
      "\u001b[0;31mStdinNotImplementedError\u001b[0m: raw_input was called, but this frontend does not support input requests."
     ]
    }
   ],
   "source": [
    "import pyotp\n",
    "import base64\n",
    "import os\n",
    "\n",
    "def generate_secret_key():\n",
    "    return base64.b32encode(os.urandom(10)).decode('utf-8')\n",
    "\n",
    "def generate_otp(secret_key):\n",
    "    totp = pyotp.TOTP(secret_key)\n",
    "    return totp.now()\n",
    "\n",
    "def verify_otp(secret_key, otp_input):\n",
    "    totp = pyotp.TOTP(secret_key)\n",
    "    return totp.verify(otp_input)\n",
    "\n",
    "if __name__ == \"__main__\":\n",
    "    # Step 1: Generate a new secret key (replace this with a method to associate it with a user in a real application)\n",
    "    secret_key = generate_secret_key()\n",
    "    print(\"Generated Secret Key:\", secret_key)\n",
    "\n",
    "    # Step 2: Generate OTP\n",
    "    otp = generate_otp(secret_key)\n",
    "    print(\"Generated OTP:\", otp)\n",
    "\n",
    "    # Step 3: Simulate user input for OTP verification\n",
    "    user_input_otp = input(\"Enter OTP received on your device: \")\n",
    "\n",
    "    # Step 4: Verify OTP\n",
    "    if verify_otp(secret_key, user_input_otp):\n",
    "        print(\"OTP verification successful. User is authenticated.\")\n",
    "    else:\n",
    "        print(\"OTP verification failed. User is not authenticated.\")\n"
   ]
  },
  {
   "cell_type": "code",
   "execution_count": null,
   "id": "5b332dc9",
   "metadata": {
    "papermill": {
     "duration": null,
     "end_time": null,
     "exception": null,
     "start_time": null,
     "status": "pending"
    },
    "tags": []
   },
   "outputs": [],
   "source": []
  }
 ],
 "metadata": {
  "kernelspec": {
   "display_name": "Python 3",
   "language": "python",
   "name": "python3"
  },
  "language_info": {
   "codemirror_mode": {
    "name": "ipython",
    "version": 3
   },
   "file_extension": ".py",
   "mimetype": "text/x-python",
   "name": "python",
   "nbconvert_exporter": "python",
   "pygments_lexer": "ipython3",
   "version": "3.10.12"
  },
  "papermill": {
   "default_parameters": {},
   "duration": 30.439797,
   "end_time": "2023-07-31T05:08:19.209521",
   "environment_variables": {},
   "exception": true,
   "input_path": "__notebook__.ipynb",
   "output_path": "__notebook__.ipynb",
   "parameters": {},
   "start_time": "2023-07-31T05:07:48.769724",
   "version": "2.4.0"
  }
 },
 "nbformat": 4,
 "nbformat_minor": 5
}
